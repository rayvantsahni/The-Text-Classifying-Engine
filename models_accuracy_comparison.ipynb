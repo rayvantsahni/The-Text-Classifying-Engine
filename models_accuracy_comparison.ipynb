{
 "cells": [
  {
   "cell_type": "code",
   "execution_count": 197,
   "metadata": {},
   "outputs": [],
   "source": [
    "import pandas as pd\n",
    "import numpy as np\n",
    "import pickle\n",
    "from sklearn.model_selection import KFold\n",
    "from sklearn.feature_extraction.text import TfidfVectorizer\n",
    "from sklearn.metrics import classification_report, confusion_matrix, accuracy_score, precision_score, recall_score, f1_score\n",
    "from sklearn.neighbors import KNeighborsClassifier\n",
    "from sklearn.naive_bayes import MultinomialNB\n",
    "from sklearn.linear_model import LogisticRegression\n",
    "from sklearn import svm\n",
    "from sklearn.metrics import roc_curve\n",
    "import matplotlib.pyplot as plt\n",
    "plt.style.use('seaborn')\n",
    "from sklearn.model_selection import cross_val_score"
   ]
  },
  {
   "cell_type": "code",
   "execution_count": 145,
   "metadata": {},
   "outputs": [],
   "source": [
    "df = pickle.load(open('tc_data.pickle','rb'))"
   ]
  },
  {
   "cell_type": "code",
   "execution_count": 198,
   "metadata": {},
   "outputs": [],
   "source": [
    "svm = pickle.load(open('svc_model.pickle','rb'))\n",
    "mnb = pickle.load(open('mnb_model.pickle','rb'))\n",
    "mlr = pickle.load(open('mlr_model.pickle','rb'))\n",
    "knn = pickle.load(open('knn_model.pickle','rb'))"
   ]
  },
  {
   "cell_type": "code",
   "execution_count": 147,
   "metadata": {},
   "outputs": [],
   "source": [
    "ngram_range = (1,2)\n",
    "min_df = 10\n",
    "max_df = 1.\n",
    "max_features = 300\n",
    "tfidf = TfidfVectorizer(encoding='utf-8',\n",
    "                        ngram_range=ngram_range,\n",
    "                        stop_words=None,\n",
    "                        lowercase=False,\n",
    "                        max_df=max_df,\n",
    "                        min_df=min_df,\n",
    "                        max_features=max_features,\n",
    "                        norm='l2',\n",
    "                        sublinear_tf=True)"
   ]
  },
  {
   "cell_type": "code",
   "execution_count": 148,
   "metadata": {},
   "outputs": [],
   "source": [
    "x_train = pickle.load(open('features_tr.pickle', 'rb'))\n",
    "y_train = pickle.load(open('labels_tr.pickle', 'rb'))\n",
    "x_test = pickle.load(open('features_te.pickle', 'rb'))\n",
    "y_test = pickle.load(open('labels_te.pickle', 'rb'))"
   ]
  },
  {
   "cell_type": "code",
   "execution_count": 149,
   "metadata": {},
   "outputs": [],
   "source": [
    "pred1 = svm.predict_proba(x_test)\n",
    "pred2 = mnb.predict_proba(x_test)\n",
    "pred3 = mlr.predict_proba(x_test)\n",
    "pred4 = knn.predict_proba(x_test)"
   ]
  },
  {
   "cell_type": "code",
   "execution_count": 150,
   "metadata": {},
   "outputs": [],
   "source": [
    "fpr1, tpr1, thresh1 = roc_curve(y_test, pred1[:,1], pos_label = 1)\n",
    "fpr2, tpr2, thresh2 = roc_curve(y_test, pred2[:,1], pos_label = 1)\n",
    "fpr3, tpr3, thresh3 = roc_curve(y_test, pred3[:,1], pos_label = 1)\n",
    "fpr4, tpr4, thresh4 = roc_curve(y_test, pred4[:,1], pos_label = 1)"
   ]
  },
  {
   "cell_type": "code",
   "execution_count": 151,
   "metadata": {},
   "outputs": [],
   "source": [
    "random_probs = [0 for i in range(len(y_test))]\n",
    "p_fpr, p_tpr, _ = roc_curve(y_test, random_probs, pos_label = 1)"
   ]
  },
  {
   "cell_type": "code",
   "execution_count": 152,
   "metadata": {},
   "outputs": [
    {
     "data": {
      "image/png": "[encoded data removed]",
      "text/plain": [
       "<Figure size 576x396 with 1 Axes>"
      ]
     },
     "metadata": {},
     "output_type": "display_data"
    }
   ],
   "source": [
    "plt.plot(fpr2, tpr2, linestyle='--',color='green', label='mnb')\n",
    "plt.plot(fpr3, tpr3, linestyle='--',color='yellow', label='mlr')\n",
    "plt.plot(fpr4, tpr4, linestyle='--',color='red', label='knn')\n",
    "plt.plot(fpr1, tpr1, linestyle='--',color='black', label='svm')\n",
    "plt.plot(p_fpr, p_tpr, linestyle='--', color='blue')\n",
    "# title\n",
    "plt.title('ROC curve')\n",
    "# x label\n",
    "plt.xlabel('False Positive Rate')\n",
    "# y label\n",
    "plt.ylabel('True Positive rate')\n",
    "\n",
    "plt.legend(loc='best')\n",
    "plt.savefig('ROC',dpi=300)\n",
    "plt.show();"
   ]
  },
  {
   "cell_type": "code",
   "execution_count": 155,
   "metadata": {},
   "outputs": [],
   "source": [
    "svc1 = svm.SVC(C=0.1, cache_size=200, class_weight=None, coef0=0.0,\n",
    "    decision_function_shape='ovr', degree=3, gamma='auto_deprecated',\n",
    "    kernel='linear', max_iter=-1, probability=True, random_state=8,\n",
    "    shrinking=True, tol=0.001, verbose=False)"
   ]
  },
  {
   "cell_type": "code",
   "execution_count": 156,
   "metadata": {},
   "outputs": [],
   "source": [
    "cv_scores = cross_val_score(svc1.fit(x_train, y_train), x_train, y_train, cv=5)"
   ]
  },
  {
   "cell_type": "code",
   "execution_count": 157,
   "metadata": {},
   "outputs": [
    {
     "name": "stdout",
     "output_type": "stream",
     "text": [
      "[0.95789474 0.93139842 0.94444444 0.95502646 0.93617021]\n"
     ]
    }
   ],
   "source": [
    "print(cv_scores)"
   ]
  },
  {
   "cell_type": "code",
   "execution_count": 158,
   "metadata": {},
   "outputs": [
    {
     "data": {
      "text/plain": [
       "0.9449868531931012"
      ]
     },
     "execution_count": 158,
     "metadata": {},
     "output_type": "execute_result"
    }
   ],
   "source": [
    "sum(cv_scores)/5"
   ]
  },
  {
   "cell_type": "code",
   "execution_count": 159,
   "metadata": {},
   "outputs": [],
   "source": [
    "mlr1 = LogisticRegression(C=1.0, class_weight='balanced', dual=False,\n",
    "                   fit_intercept=True, intercept_scaling=1, l1_ratio=None,\n",
    "                   max_iter=100, multi_class='multinomial', n_jobs=None,\n",
    "                   penalty='l2', random_state=8, solver='sag', tol=0.0001,\n",
    "                   verbose=0, warm_start=False)"
   ]
  },
  {
   "cell_type": "code",
   "execution_count": 160,
   "metadata": {},
   "outputs": [],
   "source": [
    "cv_scores1 = cross_val_score(mlr1.fit(x_train, y_train), x_train, y_train, cv=5)"
   ]
  },
  {
   "cell_type": "code",
   "execution_count": 208,
   "metadata": {},
   "outputs": [
    {
     "data": {
      "text/plain": [
       "array([0.96578947, 0.94195251, 0.95767196, 0.97089947, 0.94680851])"
      ]
     },
     "execution_count": 208,
     "metadata": {},
     "output_type": "execute_result"
    }
   ],
   "source": [
    "cv_scores1"
   ]
  },
  {
   "cell_type": "code",
   "execution_count": 127,
   "metadata": {},
   "outputs": [
    {
     "data": {
      "text/plain": [
       "0.9566243838980485"
      ]
     },
     "execution_count": 127,
     "metadata": {},
     "output_type": "execute_result"
    }
   ],
   "source": [
    "sum(cv_scores1)/5"
   ]
  },
  {
   "cell_type": "code",
   "execution_count": 162,
   "metadata": {},
   "outputs": [
    {
     "data": {
      "text/plain": [
       "0.01096"
      ]
     },
     "execution_count": 162,
     "metadata": {},
     "output_type": "execute_result"
    }
   ],
   "source": [
    "round(np.std(np.array(cv_scores1)),5)"
   ]
  },
  {
   "cell_type": "code",
   "execution_count": 143,
   "metadata": {},
   "outputs": [
    {
     "data": {
      "text/plain": [
       "0.0103"
      ]
     },
     "execution_count": 143,
     "metadata": {},
     "output_type": "execute_result"
    }
   ],
   "source": [
    "round(np.std(np.array(cv_scores)), 5)"
   ]
  },
  {
   "cell_type": "code",
   "execution_count": 169,
   "metadata": {},
   "outputs": [],
   "source": [
    "predictions = svm.predict(x_test)"
   ]
  },
  {
   "cell_type": "code",
   "execution_count": 200,
   "metadata": {},
   "outputs": [],
   "source": [
    "d = {\n",
    "     'Model': 'SVM',\n",
    "     'Training Set Accuracy': accuracy_score(y_train, svm.predict(x_train)),\n",
    "     'Test Set Accuracy': accuracy_score(y_test, predictions),\n",
    "     'precision': precision_score(y_test, predictions, average = 'macro'),\n",
    "     'recall': recall_score(y_test, predictions, average = 'macro'),\n",
    "     'f1-score': f1_score(y_test, predictions, average = 'macro')\n",
    "}"
   ]
  },
  {
   "cell_type": "code",
   "execution_count": 201,
   "metadata": {},
   "outputs": [
    {
     "data": {
      "text/plain": [
       "{'Model': 'SVM',\n",
       " 'Training Set Accuracy': 0.9592808038075092,\n",
       " 'Test Set Accuracy': 0.9401197604790419,\n",
       " 'precision': 0.9445907349355626,\n",
       " 'recall': 0.937816830435878,\n",
       " 'f1-score': 0.9402663593435724}"
      ]
     },
     "execution_count": 201,
     "metadata": {},
     "output_type": "execute_result"
    }
   ],
   "source": [
    "d"
   ]
  },
  {
   "cell_type": "code",
   "execution_count": 186,
   "metadata": {},
   "outputs": [],
   "source": [
    "predictions1 = knn.predict(x_test)"
   ]
  },
  {
   "cell_type": "code",
   "execution_count": 202,
   "metadata": {},
   "outputs": [],
   "source": [
    "d1 = {\n",
    "     'Model': 'KNN',\n",
    "     'Training Set Accuracy': accuracy_score(y_train, knn.predict(x_train)),\n",
    "     'Test Set Accuracy': accuracy_score(y_test, predictions1),\n",
    "     'precision': precision_score(y_test, predictions1, average = 'macro'),\n",
    "     'recall': recall_score(y_test, predictions1, average = 'macro'),\n",
    "     'f1-score': f1_score(y_test, predictions1, average = 'macro')\n",
    "}"
   ]
  },
  {
   "cell_type": "code",
   "execution_count": 203,
   "metadata": {},
   "outputs": [
    {
     "data": {
      "text/plain": [
       "{'Model': 'KNN',\n",
       " 'Training Set Accuracy': 0.9598096245372819,\n",
       " 'Test Set Accuracy': 0.9281437125748503,\n",
       " 'precision': 0.9284918365692878,\n",
       " 'recall': 0.9239669942050895,\n",
       " 'f1-score': 0.9255925766707774}"
      ]
     },
     "execution_count": 203,
     "metadata": {},
     "output_type": "execute_result"
    }
   ],
   "source": [
    "d1"
   ]
  },
  {
   "cell_type": "code",
   "execution_count": 191,
   "metadata": {},
   "outputs": [],
   "source": [
    "predictions2 = mnb.predict(x_test)"
   ]
  },
  {
   "cell_type": "code",
   "execution_count": 204,
   "metadata": {},
   "outputs": [],
   "source": [
    "d2 = {\n",
    "     'Model': 'MNB',\n",
    "     'Training Set Accuracy': accuracy_score(y_train, mnb.predict(x_train)),\n",
    "     'Test Set Accuracy': accuracy_score(y_test, predictions2),\n",
    "     'precision': precision_score(y_test, predictions2, average = 'macro'),\n",
    "     'recall': recall_score(y_test, predictions2, average = 'macro'),\n",
    "     'f1-score': f1_score(y_test, predictions2, average = 'macro')\n",
    "}"
   ]
  },
  {
   "cell_type": "code",
   "execution_count": 205,
   "metadata": {},
   "outputs": [
    {
     "data": {
      "text/plain": [
       "{'Model': 'MNB',\n",
       " 'Training Set Accuracy': 0.9539925965097832,\n",
       " 'Test Set Accuracy': 0.9341317365269461,\n",
       " 'precision': 0.9354436437418672,\n",
       " 'recall': 0.9299622071050642,\n",
       " 'f1-score': 0.9320511142057424}"
      ]
     },
     "execution_count": 205,
     "metadata": {},
     "output_type": "execute_result"
    }
   ],
   "source": [
    "d2"
   ]
  },
  {
   "cell_type": "code",
   "execution_count": 194,
   "metadata": {},
   "outputs": [],
   "source": [
    "predictions3 = mlr.predict(x_test)"
   ]
  },
  {
   "cell_type": "code",
   "execution_count": 206,
   "metadata": {},
   "outputs": [],
   "source": [
    "d3 = {\n",
    "     'Model': 'MLR',\n",
    "     'Training Set Accuracy': accuracy_score(y_train, mlr.predict(x_train)),\n",
    "     'Test Set Accuracy': accuracy_score(y_test, predictions3),\n",
    "     'precision': precision_score(y_test, predictions3, average = 'macro'),\n",
    "     'recall': recall_score(y_test, predictions3, average = 'macro'),\n",
    "     'f1-score': f1_score(y_test, predictions3, average = 'macro')\n",
    "}"
   ]
  },
  {
   "cell_type": "code",
   "execution_count": 207,
   "metadata": {},
   "outputs": [
    {
     "data": {
      "text/plain": [
       "{'Model': 'MLR',\n",
       " 'Training Set Accuracy': 0.9814912744579588,\n",
       " 'Test Set Accuracy': 0.9401197604790419,\n",
       " 'precision': 0.9388102404102909,\n",
       " 'recall': 0.9402935248173343,\n",
       " 'f1-score': 0.9390741142006105}"
      ]
     },
     "execution_count": 207,
     "metadata": {},
     "output_type": "execute_result"
    }
   ],
   "source": [
    "d3"
   ]
  },
  {
   "cell_type": "code",
   "execution_count": 211,
   "metadata": {},
   "outputs": [],
   "source": [
    "df_svm = pd.DataFrame(d, index = [0])\n",
    "df_knn = pd.DataFrame(d1, index = [0])\n",
    "df_mnb = pd.DataFrame(d2, index = [0])\n",
    "df_mlr = pd.DataFrame(d3, index = [0])"
   ]
  },
  {
   "cell_type": "code",
   "execution_count": 218,
   "metadata": {},
   "outputs": [],
   "source": [
    "final_result = pd.concat([df_svm, df_knn, df_mnb, df_mlr])"
   ]
  },
  {
   "cell_type": "code",
   "execution_count": 219,
   "metadata": {},
   "outputs": [
    {
     "data": {
      "text/html": [
       "<div>\n",
       "<style scoped>\n",
       "    .dataframe tbody tr th:only-of-type {\n",
       "        vertical-align: middle;\n",
       "    }\n",
       "\n",
       "    .dataframe tbody tr th {\n",
       "        vertical-align: top;\n",
       "    }\n",
       "\n",
       "    .dataframe thead th {\n",
       "        text-align: right;\n",
       "    }\n",
       "</style>\n",
       "<table border=\"1\" class=\"dataframe\">\n",
       "  <thead>\n",
       "    <tr style=\"text-align: right;\">\n",
       "      <th></th>\n",
       "      <th>Model</th>\n",
       "      <th>Training Set Accuracy</th>\n",
       "      <th>Test Set Accuracy</th>\n",
       "      <th>precision</th>\n",
       "      <th>recall</th>\n",
       "      <th>f1-score</th>\n",
       "    </tr>\n",
       "  </thead>\n",
       "  <tbody>\n",
       "    <tr>\n",
       "      <th>0</th>\n",
       "      <td>SVM</td>\n",
       "      <td>0.959281</td>\n",
       "      <td>0.940120</td>\n",
       "      <td>0.944591</td>\n",
       "      <td>0.937817</td>\n",
       "      <td>0.940266</td>\n",
       "    </tr>\n",
       "    <tr>\n",
       "      <th>0</th>\n",
       "      <td>KNN</td>\n",
       "      <td>0.959810</td>\n",
       "      <td>0.928144</td>\n",
       "      <td>0.928492</td>\n",
       "      <td>0.923967</td>\n",
       "      <td>0.925593</td>\n",
       "    </tr>\n",
       "    <tr>\n",
       "      <th>0</th>\n",
       "      <td>MNB</td>\n",
       "      <td>0.953993</td>\n",
       "      <td>0.934132</td>\n",
       "      <td>0.935444</td>\n",
       "      <td>0.929962</td>\n",
       "      <td>0.932051</td>\n",
       "    </tr>\n",
       "    <tr>\n",
       "      <th>0</th>\n",
       "      <td>MLR</td>\n",
       "      <td>0.981491</td>\n",
       "      <td>0.940120</td>\n",
       "      <td>0.938810</td>\n",
       "      <td>0.940294</td>\n",
       "      <td>0.939074</td>\n",
       "    </tr>\n",
       "  </tbody>\n",
       "</table>\n",
       "</div>"
      ],
      "text/plain": [
       "  Model  Training Set Accuracy  Test Set Accuracy  precision    recall  \\\n",
       "0   SVM               0.959281           0.940120   0.944591  0.937817   \n",
       "0   KNN               0.959810           0.928144   0.928492  0.923967   \n",
       "0   MNB               0.953993           0.934132   0.935444  0.929962   \n",
       "0   MLR               0.981491           0.940120   0.938810  0.940294   \n",
       "\n",
       "   f1-score  \n",
       "0  0.940266  \n",
       "0  0.925593  \n",
       "0  0.932051  \n",
       "0  0.939074  "
      ]
     },
     "execution_count": 219,
     "metadata": {},
     "output_type": "execute_result"
    }
   ],
   "source": [
    "final_result"
   ]
  },
  {
   "cell_type": "code",
   "execution_count": null,
   "metadata": {},
   "outputs": [],
   "source": []
  }
 ],
 "metadata": {
  "kernelspec": {
   "display_name": "Python 3",
   "language": "python",
   "name": "python3"
  },
  "language_info": {
   "codemirror_mode": {
    "name": "ipython",
    "version": 3
   },
   "file_extension": ".py",
   "mimetype": "text/x-python",
   "name": "python",
   "nbconvert_exporter": "python",
   "pygments_lexer": "ipython3",
   "version": "3.7.3"
  }
 },
 "nbformat": 4,
 "nbformat_minor": 2
}
